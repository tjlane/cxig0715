{
 "cells": [
  {
   "cell_type": "code",
   "execution_count": 3,
   "metadata": {},
   "outputs": [],
   "source": [
    "from matplotlib import pyplot as plt\n",
    "import numpy as np"
   ]
  },
  {
   "cell_type": "markdown",
   "metadata": {},
   "source": [
    "## notes"
   ]
  },
  {
   "cell_type": "code",
   "execution_count": null,
   "metadata": {},
   "outputs": [],
   "source": [
    "def load_theory_result(path):\n",
    "\n",
    "    return data\n",
    "\n",
    "\n",
    "def normalize(radial_profile, rng=(50, 340)):\n",
    "    div = radial_profile[...,rng[0]:rng[1]].sum(-1)[...,None]\n",
    "    return radial_profile / ( div + 1e-16)"
   ]
  },
  {
   "cell_type": "code",
   "execution_count": 10,
   "metadata": {},
   "outputs": [
    {
     "name": "stdout",
     "output_type": "stream",
     "text": [
      "(500, 12)\n"
     ]
    }
   ],
   "source": [
    "experimental_data = np.loadtxt(\"../csvs/water_Iq_v_time.csv\", delimiter=',')\n",
    "print(experimental_data.shape)\n",
    "time_delays = [10.0,20.0,30.0,40.0,50.0,60.0,70.0,80.0,90.0,100.0,110.0]"
   ]
  },
  {
   "cell_type": "code",
   "execution_count": 4,
   "metadata": {},
   "outputs": [
    {
     "ename": "NameError",
     "evalue": "name 'ds_name' is not defined",
     "output_type": "error",
     "traceback": [
      "\u001b[0;31m---------------------------------------------------------------------------\u001b[0m",
      "\u001b[0;31mNameError\u001b[0m                                 Traceback (most recent call last)",
      "Cell \u001b[0;32mIn[4], line 7\u001b[0m\n\u001b[1;32m      4\u001b[0m plt\u001b[39m.\u001b[39mfigure(figsize\u001b[39m=\u001b[39m(\u001b[39m8\u001b[39m,\u001b[39m3\u001b[39m))\n\u001b[1;32m      6\u001b[0m plt\u001b[39m.\u001b[39msubplot(\u001b[39m121\u001b[39m)\n\u001b[0;32m----> 7\u001b[0m plt\u001b[39m.\u001b[39mtitle(ds_name)\n\u001b[1;32m      9\u001b[0m plt\u001b[39m.\u001b[39mplot(oc_d[\u001b[39m'\u001b[39m\u001b[39mradial_profile_qvalues\u001b[39m\u001b[39m'\u001b[39m],\n\u001b[1;32m     10\u001b[0m          normalize(rad_prf_oc\u001b[39m.\u001b[39mmean(\u001b[39m0\u001b[39m)),\n\u001b[1;32m     11\u001b[0m          color\u001b[39m=\u001b[39m\u001b[39m'\u001b[39m\u001b[39mk\u001b[39m\u001b[39m'\u001b[39m)\n\u001b[1;32m     13\u001b[0m n_shots_oc \u001b[39m=\u001b[39m rad_prf_oc\u001b[39m.\u001b[39mshape[\u001b[39m0\u001b[39m]\n",
      "\u001b[0;31mNameError\u001b[0m: name 'ds_name' is not defined"
     ]
    },
    {
     "data": {
      "image/png": "[encoded data removed]",
      "text/plain": [
       "<Figure size 800x300 with 1 Axes>"
      ]
     },
     "metadata": {},
     "output_type": "display_data"
    }
   ],
   "source": [
    "# RP vs Delay Time\n",
    "\n",
    "# --- plotting\n",
    "plt.figure(figsize=(8,3))\n",
    "\n",
    "plt.subplot(111)\n",
    "plt.title(\"\")\n",
    "\n",
    "plt.plot(experimental_data[:,0], experimental_data[:,1] color='k')\n",
    "\n",
    "for i,b in enumerate(time_delays):\n",
    "    \n",
    "    rp = normalize(rp_means[i,:,:].mean(0)) # avg powers\n",
    "    \n",
    "    plt.plot(d['radial_profile_qvalues'], rp,\n",
    "             color=cm.winter(b/time_delays.max()))\n",
    "\n",
    "plt.xlabel('q [$\\AA^{-1}]$')\n",
    "plt.ylabel('I(q) [arb]')\n",
    "plt.xlim([0.3, 2.5])\n",
    "plt.ylim([0.0, 0.007])\n",
    "\n",
    "plt.vlines([d['radial_profile_qvalues'][new_peak_pos],\n",
    "            d['radial_profile_qvalues'][wat_peak_pos]], \n",
    "           0.0, 0.007, lw=0.5)\n",
    "\n",
    "plt.legend(['no pump'] + ['%d fs' % b for b in time_delays], \n",
    "           prop={'size': 7}, ncol=2, framealpha=1.0)\n",
    "\n",
    "plt.tight_layout()\n",
    "plt.show()\n",
    "\n",
    "\n",
    "# write a CSV for export to collaborators\n",
    "csv_data = np.array(csv_data).T # column-major\n",
    "header = '# q/A,' + 'fs,'.join([ str(x) for x in time_delays ]) + '\\n'\n",
    "np.savetxt('csvs/%s_Iq_v_time.csv' % ds_name, csv_data, header=header, delimiter=',', fmt='%.8f')"
   ]
  },
  {
   "cell_type": "code",
   "execution_count": null,
   "metadata": {},
   "outputs": [],
   "source": []
  }
 ],
 "metadata": {
  "kernelspec": {
   "display_name": "base",
   "language": "python",
   "name": "python3"
  },
  "language_info": {
   "codemirror_mode": {
    "name": "ipython",
    "version": 3
   },
   "file_extension": ".py",
   "mimetype": "text/x-python",
   "name": "python",
   "nbconvert_exporter": "python",
   "pygments_lexer": "ipython3",
   "version": "3.10.0"
  },
  "orig_nbformat": 4
 },
 "nbformat": 4,
 "nbformat_minor": 2
}
