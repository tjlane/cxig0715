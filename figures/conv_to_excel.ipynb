{
 "cells": [
  {
   "cell_type": "code",
   "execution_count": 52,
   "metadata": {},
   "outputs": [],
   "source": [
    "import numpy as np\n",
    "from glob import glob\n",
    "import pandas as pd\n",
    "from natsort import natsorted"
   ]
  },
  {
   "cell_type": "markdown",
   "metadata": {},
   "source": [
    "## Figure 1"
   ]
  },
  {
   "cell_type": "code",
   "execution_count": 57,
   "metadata": {},
   "outputs": [
    {
     "name": "stdout",
     "output_type": "stream",
     "text": [
      "loading ../csvs/water_Iq_v_power_50fs.csv\n",
      "loading ../csvs/water_Iq_v_power_90fs.csv\n",
      "loading ../csvs/water_Iq_v_power_70fs.csv\n",
      "loading ../csvs/water_Iq_v_power_30fs.csv\n",
      "loading ../csvs/water_Iq_v_power_10fs.csv\n",
      "loading ../csvs/water_Iq_v_power_40fs.csv\n",
      "loading ../csvs/water_Iq_v_power_80fs.csv\n",
      "loading ../csvs/water_Iq_v_power_60fs.csv\n",
      "loading ../csvs/water_Iq_v_power_20fs.csv\n",
      "loading ../csvs/water_Iq_v_power_110fs.csv\n",
      "loading ../csvs/water_Iq_v_power_100fs.csv\n",
      "loading ../csvs/water_Iq_v_power_95percentCI_20fs.csv\n",
      "loading ../csvs/water_Iq_v_power_95percentCI_60fs.csv\n",
      "loading ../csvs/water_Iq_v_power_95percentCI_40fs.csv\n",
      "loading ../csvs/water_Iq_v_power_95percentCI_80fs.csv\n",
      "loading ../csvs/water_Iq_v_power_95percentCI_100fs.csv\n",
      "loading ../csvs/water_Iq_v_power_95percentCI_10fs.csv\n",
      "loading ../csvs/water_Iq_v_power_95percentCI_30fs.csv\n",
      "loading ../csvs/water_Iq_v_power_95percentCI_70fs.csv\n",
      "loading ../csvs/water_Iq_v_power_95percentCI_110fs.csv\n",
      "loading ../csvs/water_Iq_v_power_95percentCI_50fs.csv\n",
      "loading ../csvs/water_Iq_v_power_95percentCI_90fs.csv\n"
     ]
    }
   ],
   "source": [
    "pump_powers = np.array([2000000.0,3000000.0,4000000.0,5000000.0,6000000.0,7000000.0,8000000.0,9000000.0,10000000])\n",
    "auc_to_mJ = 1.60324933931e-07\n",
    "pump_powers_mJ = ['%.1f mJ' % (float(p) * auc_to_mJ,) for p in pump_powers]\n",
    "\n",
    "iq_vs_power_data = {}\n",
    "iq_vs_power_CIs  = {}\n",
    "\n",
    "for power_csv in glob(\"../csvs/water_Iq_v_power_??fs.csv\") + glob(\"../csvs/water_Iq_v_power_???fs.csv\"):\n",
    "    print(f\"loading {power_csv}\")\n",
    "    data = np.loadtxt(power_csv, delimiter=',')\n",
    "    delay = int(power_csv.split(\"_\")[-1].split(\".\")[0][:-2])\n",
    "    iq_vs_power_data[f\"{delay} fs\"] = data[:,1:]\n",
    "\n",
    "for power_csv in glob(\"../csvs/water_Iq_v_power_95percentCI_*fs.csv\"):\n",
    "    print(f\"loading {power_csv}\")\n",
    "    data = np.loadtxt(power_csv, delimiter=',')\n",
    "    delay = int(power_csv.split(\"_\")[-1].split(\".\")[0][:-2])\n",
    "    iq_vs_power_CIs[f\"{delay} fs\"] = data[:,1:]"
   ]
  },
  {
   "cell_type": "code",
   "execution_count": 59,
   "metadata": {},
   "outputs": [],
   "source": [
    "with pd.ExcelWriter(\"./excel/fig1_experimental_Iq.xlsx\") as writer:\n",
    "    for delay in natsorted(iq_vs_power_data.keys()):\n",
    "        pd.DataFrame(iq_vs_power_data[delay], columns=[\"q 1/A\"] + pump_powers_mJ).to_excel(writer, sheet_name=f'{delay} fs delay', index=False)\n",
    "\n",
    "with pd.ExcelWriter(\"./excel/fig1_experimental_Iq_95CI.xlsx\") as writer:\n",
    "    for delay in natsorted(iq_vs_power_data.keys()):\n",
    "        pd.DataFrame(iq_vs_power_CIs[delay], columns=[\"q 1/A\"] + pump_powers_mJ).to_excel(writer, sheet_name=f'{delay} fs delay', index=False)"
   ]
  },
  {
   "cell_type": "markdown",
   "metadata": {},
   "source": [
    "# Figure 2"
   ]
  },
  {
   "cell_type": "code",
   "execution_count": 19,
   "metadata": {},
   "outputs": [],
   "source": [
    "# panels: d e f h \n",
    "\n",
    "csp_010 = np.genfromtxt(\"./charge_populations/csp47_010_single.txt\")\n",
    "csp_100 = np.genfromtxt(\"./charge_populations/csp47_100_single.txt\")\n",
    "\n",
    "ion_010 = np.genfromtxt(\"./charge_populations/ion47_010_single.txt\")\n",
    "ion_100 = np.genfromtxt(\"./charge_populations/ion47_100_single.txt\")\n",
    "\n",
    "def format_csp_column_names(prefix, length):\n",
    "    column_names = [\"time (fs)\",] + [prefix + \" +%d\" % i for i in range(length)]\n",
    "    return column_names\n",
    "\n",
    "with pd.ExcelWriter(\"./excel/fig2_charge_states_and_species.xlsx\") as writer:\n",
    "    pd.DataFrame(csp_010, columns=format_csp_column_names(\"10% fluence\", csp_010.shape[1]-1)).to_excel(writer, sheet_name='10% fluence charge species', index=False)\n",
    "    pd.DataFrame(csp_100, columns=format_csp_column_names(\"100% fluence\", csp_100.shape[1]-1)).to_excel(writer, sheet_name='100% fluence charge species', index=False)\n",
    "    pd.DataFrame(ion_010, columns=[\"time (fs)\", \"10% fluence charge\"]).to_excel(writer, sheet_name='10% fluence total charge', index=False)\n",
    "    pd.DataFrame(ion_100, columns=[\"time (fs)\", \"100% fluence charge\"]).to_excel(writer, sheet_name='100% fluence total charge', index=False)"
   ]
  },
  {
   "cell_type": "code",
   "execution_count": 20,
   "metadata": {},
   "outputs": [],
   "source": [
    "# panels: g i\n",
    "\n",
    "THEORY_POWERS = [10, 50, 100]\n",
    "THEORY_DELAYS = [10, 30, 50, 70, 90, 110]\n",
    "THEORY_INTEGRATING_DELAYS = [25, 40, 75]\n",
    "\n",
    "def load_theory_result(power, delays=THEORY_DELAYS):\n",
    "\n",
    "    dirmap = {\n",
    "        10: \"Iq_010\",\n",
    "        50: \"Iq_050\",\n",
    "        100: \"Iq_100\",\n",
    "    }\n",
    "\n",
    "    q_values = None\n",
    "    intensities = []\n",
    "\n",
    "    for delay in delays:\n",
    "        file_path = f\"{dirmap[power]}/rdp47_{power:03d}_{delay:03d}fs.txt\"\n",
    "        data = np.loadtxt(file_path)\n",
    "\n",
    "        if q_values is not None:\n",
    "            assert np.all(q_values == data[:,0] / 1e10)\n",
    "        else:\n",
    "            q_values = data[:,0] / 1e10\n",
    "\n",
    "        intensities.append(data[:,1])\n",
    "\n",
    "    data_stack = np.stack([q_values] + intensities)\n",
    "    assert data_stack.shape[0] == len(delays) + 1\n",
    "\n",
    "    return data_stack.T\n",
    "\n",
    "\n",
    "delay_labels = [\"q 1/A\"] + [f\"{delay} fs\" for delay in THEORY_DELAYS]\n",
    "\n",
    "\n",
    "with pd.ExcelWriter(\"./excel/fig2_theory_Iq.xlsx\") as writer:\n",
    "    for power in THEORY_POWERS:\n",
    "        theory_Iq = load_theory_result(power)\n",
    "        pd.DataFrame(theory_Iq, columns=delay_labels).to_excel(writer, sheet_name=f\"{power}% fluence\", index=False)"
   ]
  },
  {
   "cell_type": "markdown",
   "metadata": {},
   "source": [
    "# Figure 3"
   ]
  },
  {
   "cell_type": "code",
   "execution_count": 33,
   "metadata": {},
   "outputs": [],
   "source": [
    "# 1st column: time [fs] time = 0 fs at the pump pulse center\n",
    "# 2nd column: electron concentration n_e [m^-3]\n",
    "# 3rd column: electron temperature T_e [eV]\n",
    "# 4th column: oxygen ion temperature T_i [eV]\n",
    "\n",
    "fig3_column_names = [\"time (fs)\", \"e- conc [m^-3]\", \"e- temp [eV]\", \"oxygen ion temp [eV]\"]\n",
    "\n",
    "low_fluence_temperatures = np.loadtxt(\"./temperature-data/noprobe_010.txt\")\n",
    "high_fluence_temperatures = np.loadtxt(\"./temperature-data/noprobe_100.txt\")\n",
    "\n",
    "# convert from 1/m3 to 1/cm3\n",
    "low_fluence_temperatures[:,1] *= 1e-6\n",
    "high_fluence_temperatures[:,1] *= 1e-6"
   ]
  },
  {
   "cell_type": "code",
   "execution_count": 34,
   "metadata": {},
   "outputs": [],
   "source": [
    "with pd.ExcelWriter(\"./excel/fig3_plasma_parameters.xlsx\") as writer:\n",
    "    pd.DataFrame(low_fluence_temperatures, columns=fig3_column_names).to_excel(writer, sheet_name=f\"10% fluence\", index=False)\n",
    "    pd.DataFrame(high_fluence_temperatures, columns=fig3_column_names).to_excel(writer, sheet_name=f\"100% fluence\", index=False)"
   ]
  },
  {
   "cell_type": "markdown",
   "metadata": {},
   "source": [
    "## Figure 4"
   ]
  },
  {
   "cell_type": "code",
   "execution_count": 30,
   "metadata": {},
   "outputs": [
    {
     "data": {
      "text/plain": [
       "(50, 5)"
      ]
     },
     "execution_count": 30,
     "metadata": {},
     "output_type": "execute_result"
    }
   ],
   "source": [
    "def load_factor_block(fluence):\n",
    "\n",
    "    data = [\n",
    "        np.genfromtxt(\"./scattering_effect_decomposition/rdp47_undam_water.txt\")[:,0] / 1e10,\n",
    "        np.genfromtxt(\"./scattering_effect_decomposition/rdp47_undam_water.txt\")[:,1],\n",
    "        np.genfromtxt(f\"./scattering_effect_decomposition/rdp47_{fluence}_disponly.txt\")[:,1],\n",
    "        np.genfromtxt(f\"./scattering_effect_decomposition/rdp47_{fluence}_formfonly.txt\")[:,1],\n",
    "        np.genfromtxt(f\"./scattering_effect_decomposition/rdp47_{fluence}_fulldam.txt\")[:,1],\n",
    "    ]\n",
    "\n",
    "    return np.vstack(data).T\n",
    "\n",
    "factor_block_010 = load_factor_block(\"010\")\n",
    "factor_block_100 = load_factor_block(\"100\")\n",
    "\n",
    "column_names_fig4 = [\n",
    "    \"q 1/A\",\n",
    "    \"undamaged water\",\n",
    "    \"displacement only\",\n",
    "    \"formfactor only\",\n",
    "    \"full model\"\n",
    "]"
   ]
  },
  {
   "cell_type": "code",
   "execution_count": 31,
   "metadata": {},
   "outputs": [],
   "source": [
    "with pd.ExcelWriter(\"./excel/fig4_Iq_contributions.xlsx\") as writer:\n",
    "    pd.DataFrame(factor_block_010, columns=column_names_fig4).to_excel(writer, sheet_name=f\"10% fluence\", index=False)\n",
    "    pd.DataFrame(factor_block_100, columns=column_names_fig4).to_excel(writer, sheet_name=f\"100% fluence\", index=False)"
   ]
  },
  {
   "cell_type": "code",
   "execution_count": null,
   "metadata": {},
   "outputs": [],
   "source": []
  }
 ],
 "metadata": {
  "kernelspec": {
   "display_name": "base",
   "language": "python",
   "name": "python3"
  },
  "language_info": {
   "codemirror_mode": {
    "name": "ipython",
    "version": 3
   },
   "file_extension": ".py",
   "mimetype": "text/x-python",
   "name": "python",
   "nbconvert_exporter": "python",
   "pygments_lexer": "ipython3",
   "version": "3.10.0"
  }
 },
 "nbformat": 4,
 "nbformat_minor": 2
}
